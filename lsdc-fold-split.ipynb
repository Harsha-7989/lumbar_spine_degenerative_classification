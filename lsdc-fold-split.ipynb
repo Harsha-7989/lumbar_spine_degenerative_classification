{
 "cells": [
  {
   "cell_type": "code",
   "execution_count": 1,
   "id": "c07a6d69",
   "metadata": {
    "_cell_guid": "b1076dfc-b9ad-4769-8c92-a6c4dae69d19",
    "_uuid": "8f2839f25d086af736a60e9eeb907d3b93b6e0e5",
    "execution": {
     "iopub.execute_input": "2024-10-06T11:36:31.646704Z",
     "iopub.status.busy": "2024-10-06T11:36:31.646122Z",
     "iopub.status.idle": "2024-10-06T11:36:48.124176Z",
     "shell.execute_reply": "2024-10-06T11:36:48.122835Z"
    },
    "papermill": {
     "duration": 16.487543,
     "end_time": "2024-10-06T11:36:48.127491",
     "exception": false,
     "start_time": "2024-10-06T11:36:31.639948",
     "status": "completed"
    },
    "tags": []
   },
   "outputs": [
    {
     "name": "stdout",
     "output_type": "stream",
     "text": [
      "Collecting iterative-stratification\r\n",
      "  Downloading iterative_stratification-0.1.8-py3-none-any.whl.metadata (1.3 kB)\r\n",
      "Requirement already satisfied: numpy in /opt/conda/lib/python3.10/site-packages (from iterative-stratification) (1.26.4)\r\n",
      "Requirement already satisfied: scipy in /opt/conda/lib/python3.10/site-packages (from iterative-stratification) (1.14.1)\r\n",
      "Requirement already satisfied: scikit-learn in /opt/conda/lib/python3.10/site-packages (from iterative-stratification) (1.2.2)\r\n",
      "Requirement already satisfied: joblib>=1.1.1 in /opt/conda/lib/python3.10/site-packages (from scikit-learn->iterative-stratification) (1.4.2)\r\n",
      "Requirement already satisfied: threadpoolctl>=2.0.0 in /opt/conda/lib/python3.10/site-packages (from scikit-learn->iterative-stratification) (3.5.0)\r\n",
      "Downloading iterative_stratification-0.1.8-py3-none-any.whl (8.5 kB)\r\n",
      "Installing collected packages: iterative-stratification\r\n",
      "Successfully installed iterative-stratification-0.1.8\r\n"
     ]
    }
   ],
   "source": [
    "!pip install iterative-stratification"
   ]
  },
  {
   "cell_type": "code",
   "execution_count": 2,
   "id": "eccc2a8e",
   "metadata": {
    "execution": {
     "iopub.execute_input": "2024-10-06T11:36:48.139362Z",
     "iopub.status.busy": "2024-10-06T11:36:48.138227Z",
     "iopub.status.idle": "2024-10-06T11:36:49.235508Z",
     "shell.execute_reply": "2024-10-06T11:36:49.233820Z"
    },
    "papermill": {
     "duration": 1.106395,
     "end_time": "2024-10-06T11:36:49.238563",
     "exception": false,
     "start_time": "2024-10-06T11:36:48.132168",
     "status": "completed"
    },
    "tags": []
   },
   "outputs": [],
   "source": [
    "import numpy as np\n",
    "import pandas as pd"
   ]
  },
  {
   "cell_type": "code",
   "execution_count": 3,
   "id": "9f512eb5",
   "metadata": {
    "execution": {
     "iopub.execute_input": "2024-10-06T11:36:49.249531Z",
     "iopub.status.busy": "2024-10-06T11:36:49.248800Z",
     "iopub.status.idle": "2024-10-06T11:36:49.310674Z",
     "shell.execute_reply": "2024-10-06T11:36:49.309266Z"
    },
    "papermill": {
     "duration": 0.070791,
     "end_time": "2024-10-06T11:36:49.313695",
     "exception": false,
     "start_time": "2024-10-06T11:36:49.242904",
     "status": "completed"
    },
    "tags": []
   },
   "outputs": [],
   "source": [
    "df = pd.read_csv('/kaggle/input/rsna-2024-lumbar-spine-degenerative-classification/train.csv')\n",
    "df = df.fillna('Unknown')"
   ]
  },
  {
   "cell_type": "code",
   "execution_count": 4,
   "id": "0f012f31",
   "metadata": {
    "execution": {
     "iopub.execute_input": "2024-10-06T11:36:49.324301Z",
     "iopub.status.busy": "2024-10-06T11:36:49.323747Z",
     "iopub.status.idle": "2024-10-06T11:36:51.044083Z",
     "shell.execute_reply": "2024-10-06T11:36:51.042627Z"
    },
    "papermill": {
     "duration": 1.72918,
     "end_time": "2024-10-06T11:36:51.047081",
     "exception": false,
     "start_time": "2024-10-06T11:36:49.317901",
     "status": "completed"
    },
    "tags": []
   },
   "outputs": [],
   "source": [
    "from iterstrat.ml_stratifiers import MultilabelStratifiedKFold\n",
    "import numpy as np\n",
    "\n",
    "mskf = MultilabelStratifiedKFold(n_splits=5, shuffle=True, random_state=0)\n",
    "\n",
    "fold = 0\n",
    "for train_index, test_index in mskf.split(df, df.iloc[:,1:]):\n",
    "    df.loc[test_index, 'fold'] = fold\n",
    "    fold += 1"
   ]
  },
  {
   "cell_type": "code",
   "execution_count": 5,
   "id": "93dd4be6",
   "metadata": {
    "execution": {
     "iopub.execute_input": "2024-10-06T11:36:51.057647Z",
     "iopub.status.busy": "2024-10-06T11:36:51.056892Z",
     "iopub.status.idle": "2024-10-06T11:36:51.064909Z",
     "shell.execute_reply": "2024-10-06T11:36:51.063597Z"
    },
    "papermill": {
     "duration": 0.016294,
     "end_time": "2024-10-06T11:36:51.067547",
     "exception": false,
     "start_time": "2024-10-06T11:36:51.051253",
     "status": "completed"
    },
    "tags": []
   },
   "outputs": [],
   "source": [
    "df['fold'] = df['fold'].astype(int)"
   ]
  },
  {
   "cell_type": "code",
   "execution_count": 6,
   "id": "ec8a6385",
   "metadata": {
    "execution": {
     "iopub.execute_input": "2024-10-06T11:36:51.077967Z",
     "iopub.status.busy": "2024-10-06T11:36:51.077478Z",
     "iopub.status.idle": "2024-10-06T11:36:51.095328Z",
     "shell.execute_reply": "2024-10-06T11:36:51.093982Z"
    },
    "papermill": {
     "duration": 0.026619,
     "end_time": "2024-10-06T11:36:51.098327",
     "exception": false,
     "start_time": "2024-10-06T11:36:51.071708",
     "status": "completed"
    },
    "tags": []
   },
   "outputs": [],
   "source": [
    "df[['study_id', 'fold']].to_csv('5folds.csv', index=False)"
   ]
  },
  {
   "cell_type": "code",
   "execution_count": null,
   "id": "439dc629",
   "metadata": {
    "papermill": {
     "duration": 0.003779,
     "end_time": "2024-10-06T11:36:51.106332",
     "exception": false,
     "start_time": "2024-10-06T11:36:51.102553",
     "status": "completed"
    },
    "tags": []
   },
   "outputs": [],
   "source": []
  }
 ],
 "metadata": {
  "kaggle": {
   "accelerator": "none",
   "dataSources": [
    {
     "databundleVersionId": 8561470,
     "sourceId": 71549,
     "sourceType": "competition"
    }
   ],
   "dockerImageVersionId": 30786,
   "isGpuEnabled": false,
   "isInternetEnabled": true,
   "language": "python",
   "sourceType": "notebook"
  },
  "kernelspec": {
   "display_name": "Python 3",
   "language": "python",
   "name": "python3"
  },
  "language_info": {
   "codemirror_mode": {
    "name": "ipython",
    "version": 3
   },
   "file_extension": ".py",
   "mimetype": "text/x-python",
   "name": "python",
   "nbconvert_exporter": "python",
   "pygments_lexer": "ipython3",
   "version": "3.10.14"
  },
  "papermill": {
   "default_parameters": {},
   "duration": 23.624078,
   "end_time": "2024-10-06T11:36:51.732764",
   "environment_variables": {},
   "exception": null,
   "input_path": "__notebook__.ipynb",
   "output_path": "__notebook__.ipynb",
   "parameters": {},
   "start_time": "2024-10-06T11:36:28.108686",
   "version": "2.6.0"
  }
 },
 "nbformat": 4,
 "nbformat_minor": 5
}
